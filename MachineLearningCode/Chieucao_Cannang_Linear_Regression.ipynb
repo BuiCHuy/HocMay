{
 "cells": [
  {
   "cell_type": "code",
   "execution_count": 5,
   "metadata": {},
   "outputs": [
    {
     "name": "stdout",
     "output_type": "stream",
     "text": [
      "w0 = -33.735410206298866\n",
      "w1 = 0.5592049619425978\n",
      "Input 155 cm, predicted output 52.94kg\n",
      "Input 160cm, predicted output 55.74kg\n"
     ]
    }
   ],
   "source": [
    "from __future__ import print_function\n",
    "\n",
    "import numpy as np\n",
    "\n",
    "\n",
    "X = np.array([[147, 150, 153, 158, 163, 165, 168, 170, 173, 175, 178, 180, 183]]).T\n",
    "y = np.array([ 49, 50, 51, 54, 58, 59, 60, 62, 63, 64, 66, 67, 68])\n",
    "# Tạo ma trận tất cả phần tử = 1\n",
    "one = np.ones((X.shape[0], 1))\n",
    "# Ghép ma trận one với x\n",
    "Xbar = np.concatenate((one, X), axis = 1) \n",
    "# Nhân ma trận X^T*X\n",
    "A = np.dot(Xbar.T, Xbar)\n",
    "b = np.dot(Xbar.T, y)\n",
    "# linalg.pinv(A) là ma trận giả nghịch đảo\n",
    "w = np.dot(np.linalg.pinv(A), b)\n",
    "w_0, w_1 = w[0], w[1]\n",
    "y1 = w_1*155 + w_0\n",
    "y2 = w_1*160 + w_0\n",
    "a=155\n",
    "print(\"w0 =\" ,w_0 )\n",
    "print(\"w1 =\" ,w_1 )\n",
    "print(\"Input\" ,a,\"cm, predicted output %.2fkg\" %(y1) )\n",
    "print(\"Input 160cm, predicted output %.2fkg\" %(y2) )\n"
   ]
  },
  {
   "cell_type": "code",
   "execution_count": 6,
   "metadata": {},
   "outputs": [
    {
     "name": "stdout",
     "output_type": "stream",
     "text": [
      "scikit-learn’s solution : w_1 =  0.5592049619396674 w_0 =  -33.73541020580774\n"
     ]
    }
   ],
   "source": [
    "from sklearn import datasets, linear_model\n",
    "# fit the model by Linear Regression\n",
    "regr = linear_model.LinearRegression()\n",
    "regr.fit(X, y) # in scikit-learn, each sample is one row\n",
    "# Compare two results\n",
    "print(\"scikit-learn’s solution : w_1 = \", regr.coef_[0], \"w_0 = \", regr.intercept_)\n"
   ]
  }
 ],
 "metadata": {
  "kernelspec": {
   "display_name": "Python 3",
   "language": "python",
   "name": "python3"
  },
  "language_info": {
   "codemirror_mode": {
    "name": "ipython",
    "version": 3
   },
   "file_extension": ".py",
   "mimetype": "text/x-python",
   "name": "python",
   "nbconvert_exporter": "python",
   "pygments_lexer": "ipython3",
   "version": "3.13.0"
  }
 },
 "nbformat": 4,
 "nbformat_minor": 2
}
