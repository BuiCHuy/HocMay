{
 "cells": [
  {
   "cell_type": "code",
   "execution_count": null,
   "metadata": {},
   "outputs": [],
   "source": [
    "import numpy as np\n",
    "\n",
    "def grad(x):\n",
    "    return x*2\n",
    "def cost(x):\n",
    "    return x**2-2\n",
    "def myGD1(x0,eta):\n",
    "    x=[x0]\n",
    "    for it in range(100):\n",
    "        x_new=x[-1]-eta*grad(x[-1])\n",
    "        if abs(grad(x_new))<1e-3:\n",
    "            break\n",
    "        x.append(x_new)\n",
    "    return (x,it)\n",
    "(x1, it1) = myGD1 (-5, .3)\n",
    "(x2, it2) = myGD1 (5, .3)\n",
    "print ('Solution x1 = %f, cost=%f, after %d iterations' % (x1 [-1],cost (x1 [-1]), it1))\n",
    "print ('Solution x2 = %f, cost=%f, after %d iterations' % (x2 [-1],cost (x2 [-1]), it2))"
   ]
  }
 ],
 "metadata": {
  "kernelspec": {
   "display_name": "Python 3",
   "language": "python",
   "name": "python3"
  },
  "language_info": {
   "name": "python",
   "version": "3.13.0"
  }
 },
 "nbformat": 4,
 "nbformat_minor": 2
}
