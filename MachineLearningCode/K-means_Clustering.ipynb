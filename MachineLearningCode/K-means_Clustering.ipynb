{
 "cells": [
  {
   "cell_type": "code",
   "execution_count": 4,
   "metadata": {},
   "outputs": [
    {
     "name": "stdout",
     "output_type": "stream",
     "text": [
      "Centers found by our algorithm:\n",
      " [[3.02702878 5.95686115]\n",
      " [8.07476866 3.01494931]\n",
      " [1.9834967  1.96588127]]\n"
     ]
    }
   ],
   "source": [
    "from __future__ import print_function  # Đảm bảo sử dụng hàm print() từ Python 3\n",
    "import numpy as np\n",
    "import matplotlib.pyplot as plt\n",
    "from scipy.spatial.distance import cdist  # Để tính khoảng cách giữa các điểm\n",
    "import random\n",
    "\n",
    "np.random.seed(18)  # Đặt seed cho numpy để có kết quả tái lập\n",
    "# Định nghĩa trung bình cho ba cụm\n",
    "means = [[2, 2], [8, 3], [3, 6]]\n",
    "cov = [[1, 0], [0, 1]]  # Ma trận hiệp phương sai\n",
    "N = 500  # Số lượng điểm trong mỗi cụm\n",
    "\n",
    "# Tạo ra ba cụm dữ liệu\n",
    "X0 = np.random.multivariate_normal(means[0], cov, N)\n",
    "X1 = np.random.multivariate_normal(means[1], cov, N)\n",
    "X2 = np.random.multivariate_normal(means[2], cov, N)\n",
    "\n",
    "# Kết hợp dữ liệu thành một mảng duy nhất\n",
    "X = np.concatenate((X0, X1, X2), axis=0)\n",
    "\n",
    "K = 3  # Số lượng cụm\n",
    "# Nhãn gốc cho các cụm\n",
    "original_label = np.asarray([0]*N + [1]*N + [2]*N).T\n",
    "\n",
    "# Hàm khởi tạo các centroid ngẫu nhiên\n",
    "def kmeans_init_centroids(X, k):\n",
    "    return X[np.random.choice(X.shape[0], k, replace=False)]\n",
    "\n",
    "# Hàm gán nhãn cho từng điểm dựa vào centroid gần nhất\n",
    "def kmeans_assign_labels(X, centroids):\n",
    "    D = cdist(X, centroids)  # Tính khoảng cách giữa điểm và centroid\n",
    "    return np.argmin(D, axis=1)  # Trả về chỉ số của centroid gần nhất\n",
    "\n",
    "# Hàm kiểm tra xem centroid có hội tụ hay không\n",
    "def has_converged(centroids, new_centroids):\n",
    "    return (set([tuple(a) for a in centroids]) ==\n",
    "            set([tuple(a) for a in new_centroids]))\n",
    "\n",
    "# Hàm cập nhật các centroid mới\n",
    "def kmeans_update_centroids(X, labels, K):\n",
    "    centroids = np.zeros((K, X.shape[1]))  # Khởi tạo ma trận centroid\n",
    "    for k in range(K):\n",
    "        Xk = X[labels == k, :]  # Lấy tất cả các điểm thuộc cụm k\n",
    "        centroids[k, :] = np.mean(Xk, axis=0)  # Tính centroid mới\n",
    "    return centroids\n",
    "\n",
    "# Hàm chính thực hiện thuật toán K-Means\n",
    "def kmeans(X, K):\n",
    "    centroids = [kmeans_init_centroids(X, K)]  # Khởi tạo centroid ban đầu\n",
    "    labels = []  # Danh sách lưu trữ nhãn\n",
    "    it = 0  # Biến đếm số vòng lặp\n",
    "    while True:\n",
    "        labels.append(kmeans_assign_labels(X, centroids[-1]))  # Gán nhãn cho các điểm\n",
    "        new_centroids = kmeans_update_centroids(X, labels[-1], K)  # Cập nhật centroid\n",
    "        if has_converged(centroids[-1], new_centroids):  # Kiểm tra hội tụ\n",
    "            break\n",
    "        centroids.append(new_centroids)  # Lưu centroid mới\n",
    "        it += 1  # Tăng số vòng lặp\n",
    "    return (centroids, labels, it)  # Trả về centroid, nhãn và số vòng lặp\n",
    "\n",
    "(centroids, labels, it) = kmeans(X, K)  # Gọi hàm K-Means\n",
    "print('Centers found by our algorithm:\\n', centroids[-1])  # In ra centroid cuối cùng\n"
   ]
  },
  {
   "cell_type": "code",
   "execution_count": null,
   "metadata": {},
   "outputs": [],
   "source": []
  }
 ],
 "metadata": {
  "kernelspec": {
   "display_name": "Python 3",
   "language": "python",
   "name": "python3"
  },
  "language_info": {
   "codemirror_mode": {
    "name": "ipython",
    "version": 3
   },
   "file_extension": ".py",
   "mimetype": "text/x-python",
   "name": "python",
   "nbconvert_exporter": "python",
   "pygments_lexer": "ipython3",
   "version": "3.13.0"
  }
 },
 "nbformat": 4,
 "nbformat_minor": 2
}
