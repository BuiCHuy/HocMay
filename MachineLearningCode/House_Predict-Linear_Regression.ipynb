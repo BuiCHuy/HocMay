{
 "cells": [
  {
   "cell_type": "code",
   "execution_count": 5,
   "metadata": {},
   "outputs": [
    {
     "name": "stdout",
     "output_type": "stream",
     "text": [
      "Hệ số chặn (w_0): 2.9158637618901935\n",
      "Hệ số diện tích (w_1): 0.07756980668917723\n",
      "Hệ số số phòng ngủ (w_2): 4.766370052162927\n",
      "Hệ số khoảng cách đến trung tâm (w_3): -0.7102792267566578\n",
      "Giá dự đoán cho ngôi nhà mới: 10.64\n"
     ]
    }
   ],
   "source": [
    "import numpy as np\n",
    "\n",
    "# Dữ liệu đầu vào\n",
    "x1 = [60, 40, 100]  # Diện tích\n",
    "x2 = [2, 2, 3]      # Số phòng ngủ\n",
    "x3 = [10, 5, 7]     # Khoảng cách đến trung tâm\n",
    "y = [10, 12, 20]    # Giá nhà\n",
    "\n",
    "# Chuyển dữ liệu thành ma trận numpy\n",
    "X = np.array([x1, x2, x3]).T  # Ma trận đặc trưng (3 cột: diện tích, số phòng ngủ, khoảng cách)\n",
    "y = np.array(y)               # Mảng giá trị mục tiêu (giá nhà)\n",
    "\n",
    "# Thêm cột 1s vào X để tính hệ số chặn w_0\n",
    "ones = np.ones((X.shape[0], 1))\n",
    "Xbar = np.concatenate((ones, X), axis=1)\n",
    "\n",
    "# Tính toán ma trận A và b\n",
    "A = np.dot(Xbar.T, Xbar)  # Xbar.T * Xbar\n",
    "b = np.dot(Xbar.T, y)     # Xbar.T * y\n",
    "\n",
    "# Giải hệ phương trình để tìm vector w (w_0, w_1, w_2, w_3)\n",
    "w = np.dot(np.linalg.pinv(A), b)\n",
    "\n",
    "# In ra các hệ số\n",
    "w_0, w_1, w_2, w_3 = w\n",
    "print(f\"Hệ số chặn (w_0): {w_0}\")\n",
    "print(f\"Hệ số diện tích (w_1): {w_1}\")\n",
    "print(f\"Hệ số số phòng ngủ (w_2): {w_2}\")\n",
    "print(f\"Hệ số khoảng cách đến trung tâm (w_3): {w_3}\")\n",
    "\n",
    "# Dự đoán giá nhà mới \n",
    "new_house = np.array([1, 50, 2, 8])  # 1 cho hệ số chặn w_0\n",
    "predicted_price = np.dot(new_house, w)\n",
    "\n",
    "print(f\"Giá dự đoán cho ngôi nhà mới: {predicted_price:.2f}\")\n"
   ]
  },
  {
   "cell_type": "code",
   "execution_count": 6,
   "metadata": {},
   "outputs": [
    {
     "name": "stdout",
     "output_type": "stream",
     "text": [
      "Hệ số chặn (w_0): 10.477177508269016\n",
      "Hệ số diện tích (w_1): 0.16758544652701216\n",
      "Hệ số số phòng ngủ (w_2): 0.0855567805953692\n",
      "Hệ số khoảng cách đến trung tâm (w_3): -1.0703417861080484\n",
      "Giá dự đoán cho ngôi nhà mới (scikit-learn): 10.46\n"
     ]
    }
   ],
   "source": [
    "from sklearn.linear_model import LinearRegression\n",
    "# Khởi tạo mô hình hồi quy tuyến tính\n",
    "model = LinearRegression()\n",
    "\n",
    "# Huấn luyện mô hình\n",
    "model.fit(X, y)\n",
    "\n",
    "# Lấy các hệ số hồi quy\n",
    "w_0 = model.intercept_\n",
    "w_1, w_2, w_3 = model.coef_\n",
    "\n",
    "print(f\"Hệ số chặn (w_0): {w_0}\")\n",
    "print(f\"Hệ số diện tích (w_1): {w_1}\")\n",
    "print(f\"Hệ số số phòng ngủ (w_2): {w_2}\")\n",
    "print(f\"Hệ số khoảng cách đến trung tâm (w_3): {w_3}\")\n",
    "\n",
    "# Dự đoán giá nhà mới\n",
    "new_house = np.array([[50, 2, 8]])  # Diện tích 50, 2 phòng ngủ, cách trung tâm 8km\n",
    "predicted_price = model.predict(new_house)\n",
    "\n",
    "print(f\"Giá dự đoán cho ngôi nhà mới (scikit-learn): {predicted_price[0]:.2f}\")"
   ]
  }
 ],
 "metadata": {
  "kernelspec": {
   "display_name": "Python 3",
   "language": "python",
   "name": "python3"
  },
  "language_info": {
   "codemirror_mode": {
    "name": "ipython",
    "version": 3
   },
   "file_extension": ".py",
   "mimetype": "text/x-python",
   "name": "python",
   "nbconvert_exporter": "python",
   "pygments_lexer": "ipython3",
   "version": "3.13.0"
  }
 },
 "nbformat": 4,
 "nbformat_minor": 2
}
